{
 "cells": [
  {
   "cell_type": "code",
   "execution_count": null,
   "id": "4178a1df",
   "metadata": {},
   "outputs": [],
   "source": [
    "import sys\n",
    "import os\n",
    "if os.getcwd().endswith('notebooks'):\n",
    "    os.chdir(\"..\")\n",
    "print(os.getcwd())"
   ]
  },
  {
   "cell_type": "markdown",
   "id": "46d7adaa",
   "metadata": {},
   "source": [
    "## Imports "
   ]
  },
  {
   "cell_type": "code",
   "execution_count": null,
   "id": "5de29e51",
   "metadata": {},
   "outputs": [],
   "source": [
    "import pandas as pd\n",
    "import numpy as np\n",
    "import itertools\n",
    "import warnings\n",
    "warnings.filterwarnings(\"ignore\")\n",
    "\n",
    "from sklearn.model_selection import train_test_split\n",
    "import keras\n",
    "from keras.models import Model, Sequential\n",
    "from keras.layers import LSTM, Activation, Dense, Dropout, Input, Embedding\n",
    "from keras.optimizers import RMSprop\n",
    "from keras.preprocessing.text import Tokenizer\n",
    "from keras.preprocessing import sequence\n",
    "from tensorflow.keras.preprocessing.sequence import pad_sequences"
   ]
  },
  {
   "cell_type": "markdown",
   "id": "4aebec58",
   "metadata": {},
   "source": [
    "# Data "
   ]
  },
  {
   "cell_type": "code",
   "execution_count": 3,
   "id": "93d183f0",
   "metadata": {},
   "outputs": [
    {
     "data": {
      "text/html": [
       "<div>\n",
       "<style scoped>\n",
       "    .dataframe tbody tr th:only-of-type {\n",
       "        vertical-align: middle;\n",
       "    }\n",
       "\n",
       "    .dataframe tbody tr th {\n",
       "        vertical-align: top;\n",
       "    }\n",
       "\n",
       "    .dataframe thead th {\n",
       "        text-align: right;\n",
       "    }\n",
       "</style>\n",
       "<table border=\"1\" class=\"dataframe\">\n",
       "  <thead>\n",
       "    <tr style=\"text-align: right;\">\n",
       "      <th></th>\n",
       "      <th>text</th>\n",
       "      <th>label</th>\n",
       "    </tr>\n",
       "  </thead>\n",
       "  <tbody>\n",
       "    <tr>\n",
       "      <th>0</th>\n",
       "      <td>Waiting for Madoff, Angry Crowd Is Disappointed</td>\n",
       "      <td>0</td>\n",
       "    </tr>\n",
       "    <tr>\n",
       "      <th>1</th>\n",
       "      <td>Rihanna Looks Flawless In Her New Video For \"W...</td>\n",
       "      <td>1</td>\n",
       "    </tr>\n",
       "    <tr>\n",
       "      <th>2</th>\n",
       "      <td>19 Michael Scott Moments Guaranteed To Make Yo...</td>\n",
       "      <td>1</td>\n",
       "    </tr>\n",
       "    <tr>\n",
       "      <th>3</th>\n",
       "      <td>Here's All Of The Famous Faces Who Attended Lo...</td>\n",
       "      <td>1</td>\n",
       "    </tr>\n",
       "    <tr>\n",
       "      <th>4</th>\n",
       "      <td>Transporting food costs the UK billions</td>\n",
       "      <td>0</td>\n",
       "    </tr>\n",
       "    <tr>\n",
       "      <th>...</th>\n",
       "      <td>...</td>\n",
       "      <td>...</td>\n",
       "    </tr>\n",
       "    <tr>\n",
       "      <th>31995</th>\n",
       "      <td>33 Cats Who Found Their Forever Home This Year</td>\n",
       "      <td>1</td>\n",
       "    </tr>\n",
       "    <tr>\n",
       "      <th>31996</th>\n",
       "      <td>Q-and-A With Retiring Big East Commissioner Mi...</td>\n",
       "      <td>0</td>\n",
       "    </tr>\n",
       "    <tr>\n",
       "      <th>31997</th>\n",
       "      <td>18 Throwback Fairy Winkles Toys Only '90s Kids...</td>\n",
       "      <td>1</td>\n",
       "    </tr>\n",
       "    <tr>\n",
       "      <th>31998</th>\n",
       "      <td>Alistair Darling unveils UK's 2010 Budget</td>\n",
       "      <td>0</td>\n",
       "    </tr>\n",
       "    <tr>\n",
       "      <th>31999</th>\n",
       "      <td>Fred Thompson raises $3 million, falls short o...</td>\n",
       "      <td>0</td>\n",
       "    </tr>\n",
       "  </tbody>\n",
       "</table>\n",
       "<p>32000 rows × 2 columns</p>\n",
       "</div>"
      ],
      "text/plain": [
       "                                                    text  label\n",
       "0        Waiting for Madoff, Angry Crowd Is Disappointed      0\n",
       "1      Rihanna Looks Flawless In Her New Video For \"W...      1\n",
       "2      19 Michael Scott Moments Guaranteed To Make Yo...      1\n",
       "3      Here's All Of The Famous Faces Who Attended Lo...      1\n",
       "4                Transporting food costs the UK billions      0\n",
       "...                                                  ...    ...\n",
       "31995     33 Cats Who Found Their Forever Home This Year      1\n",
       "31996  Q-and-A With Retiring Big East Commissioner Mi...      0\n",
       "31997  18 Throwback Fairy Winkles Toys Only '90s Kids...      1\n",
       "31998          Alistair Darling unveils UK's 2010 Budget      0\n",
       "31999  Fred Thompson raises $3 million, falls short o...      0\n",
       "\n",
       "[32000 rows x 2 columns]"
      ]
     },
     "execution_count": 3,
     "metadata": {},
     "output_type": "execute_result"
    }
   ],
   "source": [
    "df = pd.read_csv(os.path.join('data', 'clickbait_labeled_data.csv'))\n",
    "df"
   ]
  },
  {
   "cell_type": "markdown",
   "id": "d0546eb9",
   "metadata": {},
   "source": [
    "### Create Train and test splits"
   ]
  },
  {
   "cell_type": "code",
   "execution_count": 4,
   "id": "d6c6d798",
   "metadata": {},
   "outputs": [],
   "source": [
    "X = df['text']\n",
    "y = df['label']\n",
    "X_train, X_test, y_train, y_test = train_test_split(X, y, test_size=0.25, stratify=y, random_state=2)"
   ]
  },
  {
   "cell_type": "markdown",
   "id": "db08aa32",
   "metadata": {},
   "source": [
    "### Tokenize the Data"
   ]
  },
  {
   "cell_type": "code",
   "execution_count": 6,
   "id": "72ded1dc",
   "metadata": {},
   "outputs": [],
   "source": [
    "tokenizer = Tokenizer()\n",
    "tokenizer.fit_on_texts(X_train)\n",
    "sequences = tokenizer.texts_to_sequences(X_train)"
   ]
  },
  {
   "cell_type": "code",
   "execution_count": 7,
   "id": "d5319980",
   "metadata": {},
   "outputs": [],
   "source": [
    "# Pad the sequences to the same length\n",
    "max_length = max([len(seq) for seq in sequences])\n",
    "padded_sequences = pad_sequences(sequences, maxlen=max_length)"
   ]
  },
  {
   "cell_type": "markdown",
   "id": "4bb94c26",
   "metadata": {},
   "source": [
    "# Model"
   ]
  },
  {
   "cell_type": "markdown",
   "id": "6f2e145d",
   "metadata": {},
   "source": [
    "### Define the Model "
   ]
  },
  {
   "cell_type": "code",
   "execution_count": 8,
   "id": "950a8637",
   "metadata": {},
   "outputs": [],
   "source": [
    "def LSTM_model():\n",
    "    inputs = Input(name='inputs', shape=[max_length])\n",
    "    layer = Embedding(len(tokenizer.word_index)+1, 50, input_length=max_length)(inputs)\n",
    "    layer = LSTM(64)(layer)\n",
    "    layer = Dense(1, name='out_layer')(layer)\n",
    "    layer = Activation('sigmoid')(layer)\n",
    "    model = Model(inputs=inputs, outputs=layer)\n",
    "    return model"
   ]
  },
  {
   "cell_type": "markdown",
   "id": "6e865c68",
   "metadata": {},
   "source": [
    "### Compile the model"
   ]
  },
  {
   "cell_type": "code",
   "execution_count": 9,
   "id": "be3d12f6",
   "metadata": {},
   "outputs": [
    {
     "name": "stderr",
     "output_type": "stream",
     "text": [
      "2023-02-09 14:21:53.733681: I tensorflow/core/platform/cpu_feature_guard.cc:193] This TensorFlow binary is optimized with oneAPI Deep Neural Network Library (oneDNN) to use the following CPU instructions in performance-critical operations:  AVX2 FMA\n",
      "To enable them in other operations, rebuild TensorFlow with the appropriate compiler flags.\n"
     ]
    },
    {
     "name": "stdout",
     "output_type": "stream",
     "text": [
      "Model: \"model\"\n",
      "_________________________________________________________________\n",
      " Layer (type)                Output Shape              Param #   \n",
      "=================================================================\n",
      " inputs (InputLayer)         [(None, 26)]              0         \n",
      "                                                                 \n",
      " embedding (Embedding)       (None, 26, 50)            1062350   \n",
      "                                                                 \n",
      " lstm (LSTM)                 (None, 64)                29440     \n",
      "                                                                 \n",
      " out_layer (Dense)           (None, 1)                 65        \n",
      "                                                                 \n",
      " activation (Activation)     (None, 1)                 0         \n",
      "                                                                 \n",
      "=================================================================\n",
      "Total params: 1,091,855\n",
      "Trainable params: 1,091,855\n",
      "Non-trainable params: 0\n",
      "_________________________________________________________________\n"
     ]
    }
   ],
   "source": [
    "model = LSTM_model()\n",
    "model.summary()\n",
    "model.compile(loss='binary_crossentropy', optimizer=RMSprop(), metrics=['accuracy'])"
   ]
  },
  {
   "cell_type": "markdown",
   "id": "442bf664",
   "metadata": {},
   "source": [
    "### Fit the model on the training data"
   ]
  },
  {
   "cell_type": "code",
   "execution_count": 10,
   "id": "a58d08af",
   "metadata": {},
   "outputs": [
    {
     "name": "stdout",
     "output_type": "stream",
     "text": [
      "Epoch 1/10\n",
      "750/750 [==============================] - 15s 16ms/step - loss: 0.1529 - accuracy: 0.9410\n",
      "Epoch 2/10\n",
      "750/750 [==============================] - 12s 16ms/step - loss: 0.0605 - accuracy: 0.9783\n",
      "Epoch 3/10\n",
      "750/750 [==============================] - 12s 16ms/step - loss: 0.0460 - accuracy: 0.9839\n",
      "Epoch 4/10\n",
      "750/750 [==============================] - 12s 17ms/step - loss: 0.0391 - accuracy: 0.9865\n",
      "Epoch 5/10\n",
      "750/750 [==============================] - 12s 16ms/step - loss: 0.0347 - accuracy: 0.9880\n",
      "Epoch 6/10\n",
      "750/750 [==============================] - 13s 17ms/step - loss: 0.0316 - accuracy: 0.9894\n",
      "Epoch 7/10\n",
      "750/750 [==============================] - 12s 16ms/step - loss: 0.0281 - accuracy: 0.9905\n",
      "Epoch 8/10\n",
      "750/750 [==============================] - 12s 16ms/step - loss: 0.0247 - accuracy: 0.9914\n",
      "Epoch 9/10\n",
      "750/750 [==============================] - 12s 16ms/step - loss: 0.0212 - accuracy: 0.9931\n",
      "Epoch 10/10\n",
      "750/750 [==============================] - 13s 17ms/step - loss: 0.0185 - accuracy: 0.9944\n"
     ]
    },
    {
     "data": {
      "text/plain": [
       "<keras.callbacks.History at 0x7fe07b16f7f0>"
      ]
     },
     "execution_count": 10,
     "metadata": {},
     "output_type": "execute_result"
    }
   ],
   "source": [
    "model.fit(\n",
    "    padded_sequences, \n",
    "    y_train, \n",
    "    epochs=10, \n",
    "    verbose=1,\n",
    ")"
   ]
  },
  {
   "cell_type": "markdown",
   "id": "dc6c99e1",
   "metadata": {},
   "source": [
    "### View model accuracy"
   ]
  },
  {
   "cell_type": "code",
   "execution_count": 12,
   "id": "fd371985",
   "metadata": {},
   "outputs": [
    {
     "name": "stdout",
     "output_type": "stream",
     "text": [
      "250/250 [==============================] - 2s 6ms/step - loss: 0.0655 - accuracy: 0.9814\n",
      "Accuracy is: 0.981374979019165\n"
     ]
    }
   ],
   "source": [
    "test_sequences = tokenizer.texts_to_sequences(X_test)\n",
    "test_padded_sequences = pad_sequences(test_sequences, maxlen=max_length)\n",
    "print(f\"Accuracy is: {model.evaluate(test_padded_sequences, y_test)[1]}\")"
   ]
  },
  {
   "cell_type": "markdown",
   "id": "b539bc2a",
   "metadata": {},
   "source": [
    "# Predictions"
   ]
  },
  {
   "cell_type": "markdown",
   "id": "b217b93b",
   "metadata": {},
   "source": [
    "### Make a prediction of a random text in the test set"
   ]
  },
  {
   "cell_type": "code",
   "execution_count": 13,
   "id": "2b72d994",
   "metadata": {},
   "outputs": [
    {
     "name": "stdout",
     "output_type": "stream",
     "text": [
      "1/1 [==============================] - 1s 537ms/step\n",
      "\n",
      "Text is: \n",
      "How Many Jamie Lee Curtis Movies Have You Seen\n",
      "\n",
      "With a probability of: [0.9997887]\n",
      "\n",
      "The prediction is: 1\n"
     ]
    }
   ],
   "source": [
    "label_chosen = 1\n",
    "#+++++++++++++++++++++++++++++++++++++\n",
    "random_row = y_test[y_test.map(lambda x: x==label_chosen)].sample()\n",
    "random_text = [X_test[random_row.index].values[0]]\n",
    "test_response_seq = tokenizer.texts_to_sequences(random_text)\n",
    "test_response_padded_sequences = pad_sequences(test_response_seq, maxlen=max_length)\n",
    "prediction_ = max(model.predict(test_response_padded_sequences))\n",
    "print(f\"\\nText is: \\n{random_text[0]}\")\n",
    "print(f\"\\nWith a probability of: {prediction_}\")\n",
    "print(f\"\\nThe prediction is: {round(prediction_[0])}\")"
   ]
  },
  {
   "cell_type": "markdown",
   "id": "51abf1f3",
   "metadata": {},
   "source": [
    "### Make a prediction of 1 invented text"
   ]
  },
  {
   "cell_type": "code",
   "execution_count": 16,
   "id": "aa5c38ef",
   "metadata": {},
   "outputs": [
    {
     "name": "stdout",
     "output_type": "stream",
     "text": [
      "1/1 [==============================] - 0s 26ms/step\n",
      "With a probability of: [0.17083187]\n",
      "The prediction is: 0\n"
     ]
    }
   ],
   "source": [
    "test_text = '3 days ago I walked around town'\n",
    "#++++++++++++++++++++++++++++++++++++++++++++++\n",
    "test_sequ = tokenizer.texts_to_sequences([test_text])\n",
    "test_padded_sequ = pad_sequences(test_sequ, maxlen=max_length)\n",
    "pred = max(model.predict(test_padded_sequ))\n",
    "print(f\"With a probability of: {pred}\")\n",
    "print(f\"The prediction is: {round(pred[0])}\")"
   ]
  }
 ],
 "metadata": {
  "kernelspec": {
   "display_name": "Python 3 (ipykernel)",
   "language": "python",
   "name": "python3"
  },
  "language_info": {
   "codemirror_mode": {
    "name": "ipython",
    "version": 3
   },
   "file_extension": ".py",
   "mimetype": "text/x-python",
   "name": "python",
   "nbconvert_exporter": "python",
   "pygments_lexer": "ipython3",
   "version": "3.9.6"
  }
 },
 "nbformat": 4,
 "nbformat_minor": 5
}
